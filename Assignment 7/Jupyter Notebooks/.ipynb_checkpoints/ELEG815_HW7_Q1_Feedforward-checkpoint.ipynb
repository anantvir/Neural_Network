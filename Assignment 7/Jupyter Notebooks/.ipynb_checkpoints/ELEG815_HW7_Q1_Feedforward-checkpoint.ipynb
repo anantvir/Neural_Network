{
 "cells": [
  {
   "cell_type": "code",
   "execution_count": 80,
   "metadata": {},
   "outputs": [],
   "source": [
    "import numpy as np\n",
    "from scipy.io import loadmat"
   ]
  },
  {
   "cell_type": "code",
   "execution_count": 97,
   "metadata": {},
   "outputs": [],
   "source": [
    "dataset_mat = loadmat(r'D:\\\\Courses\\\\Fall 19\\\\ELEG 815 Statistical Learning\\\\HW7\\DatasetDigit.mat')\n",
    "data = np.array(dataset_mat['X'])\n",
    "labels = np.array(dataset_mat['y'])\n",
    "\n",
    "weights_mat = loadmat(r'D:\\\\Courses\\\\Fall 19\\\\ELEG 815 Statistical Learning\\\\HW7\\Weights.mat')\n",
    "weight_list = [weights_mat['W1'],weights_mat['W2']]\n",
    "outputs = []\n",
    "no_of_layers = 3\n",
    "point = [data[0]]"
   ]
  },
  {
   "cell_type": "code",
   "execution_count": 98,
   "metadata": {},
   "outputs": [],
   "source": [
    "def sigmoid(z):\n",
    "    return 1/(1+np.exp(-z))\n",
    "def feedforward(datapoint,weight_list):\n",
    "    prev_layer_activations = datapoint\n",
    "    activations_list = [0]*no_of_layers\n",
    "    activations_list[0] = datapoint\n",
    "    for layer in range(1,no_of_layers):     # l= 2 to L\n",
    "        WX = np.dot(weight_list[layer-1].T,prev_layer_activations)   \n",
    "        Z = WX\n",
    "        sigmoid_Z = sigmoid(Z)\n",
    "        activations_list[layer] = sigmoid_Z\n",
    "        x_n = np.empty((sigmoid_Z.shape[0]+1,))\n",
    "        x_n[0] = 1\n",
    "        x_n[1:] = sigmoid_Z\n",
    "        prev_layer_activations = x_n\n",
    "    outputs.append(np.argmax(activations_list[-1]))"
   ]
  },
  {
   "cell_type": "code",
   "execution_count": 99,
   "metadata": {},
   "outputs": [],
   "source": [
    "for x in data:\n",
    "    #print(x)\n",
    "    x_n = np.empty((x.shape[0]+1,))\n",
    "    x_n[0] = 1\n",
    "    x_n[1:] = x\n",
    "    feedforward(x_n,weight_list)"
   ]
  },
  {
   "cell_type": "code",
   "execution_count": 101,
   "metadata": {},
   "outputs": [],
   "source": [
    "result = (sum(int((x+1)==y) for (x,y) in zip(outputs,labels))/len(data))*100"
   ]
  },
  {
   "cell_type": "markdown",
   "metadata": {},
   "source": [
    "# Accuracy : 97.52"
   ]
  },
  {
   "cell_type": "code",
   "execution_count": null,
   "metadata": {},
   "outputs": [],
   "source": []
  }
 ],
 "metadata": {
  "kernelspec": {
   "display_name": "Python 3",
   "language": "python",
   "name": "python3"
  },
  "language_info": {
   "codemirror_mode": {
    "name": "ipython",
    "version": 3
   },
   "file_extension": ".py",
   "mimetype": "text/x-python",
   "name": "python",
   "nbconvert_exporter": "python",
   "pygments_lexer": "ipython3",
   "version": "3.6.5"
  }
 },
 "nbformat": 4,
 "nbformat_minor": 2
}
