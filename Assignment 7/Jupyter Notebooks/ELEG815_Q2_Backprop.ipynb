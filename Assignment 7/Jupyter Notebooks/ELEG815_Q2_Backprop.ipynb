{
 "cells": [
  {
   "cell_type": "code",
   "execution_count": 1,
   "metadata": {},
   "outputs": [],
   "source": [
    "import numpy as np\n",
    "from scipy.io import loadmat\n",
    "import pandas as pd\n",
    "import matplotlib.pyplot as plt"
   ]
  },
  {
   "cell_type": "code",
   "execution_count": 21,
   "metadata": {},
   "outputs": [],
   "source": [
    "layer_size_list = [1,2,1,1]\n",
    "np.random.seed(50)\n",
    "#weight_list = [np.random.normal(0,0.1,(layer_size_list[x]+1,layer_size_list[x+1])) for x in range(len(layer_size_list)-1)]\n",
    "weight_list = [np.array([[0.1,0.2],[0.3,0.4]]),np.array([[0.2],[1],[-3]]),np.array([[1],[2]])]\n",
    "no_of_layers = 4\n",
    "path = 'D:\\Courses\\Fall 19\\ELEG 815 Statistical Learning\\HW6\\Dataset'\n",
    "train_data_all = pd.read_csv(path+'\\DigitsTraining.csv',header=None)\n",
    "test_data_all = pd.read_csv(path+'\\DigitsTesting.csv',header=None)\n",
    "train_data = train_data_all.sample(n=500)\n",
    "test_data = test_data_all.sample(n=500)\n",
    "train_data.reset_index(drop=True,inplace=True)\n",
    "test_data.reset_index(drop=True,inplace=True)\n",
    "train_labels = train_data[0]\n",
    "#train_data = train_data.drop([0],axis=1)"
   ]
  },
  {
   "cell_type": "code",
   "execution_count": 30,
   "metadata": {},
   "outputs": [],
   "source": [
    "def sigmoid(z):\n",
    "    return 1/(1+np.exp(-z))\n",
    "def tanh(z):\n",
    "    return (np.exp(z)-np.exp(-z))/(np.exp(z)+np.exp(-z))\n",
    "def identity(z):\n",
    "    return z\n",
    "def feedforward(datapoint,weight_list):\n",
    "    x_n = np.empty((datapoint.shape[0]+1,))\n",
    "    x_n[0] = 1\n",
    "    x_n[1:] = datapoint\n",
    "    #print(x_n.shape)\n",
    "    prev_layer_activations = x_n\n",
    "    signal_list = [0]*(no_of_layers-1)\n",
    "    activations_list = [0]*no_of_layers\n",
    "    activations_list[0] = x_n\n",
    "    for layer in range(1,no_of_layers):     # l= 2 to L\n",
    "        WX = np.dot(weight_list[layer-1].T,prev_layer_activations)   \n",
    "        Z = WX\n",
    "        signal_list[layer-1] = Z\n",
    "        activation_Z = tanh(Z)\n",
    "        x_n = np.empty((activation_Z.shape[0]+1,))\n",
    "        x_n[0] = 1\n",
    "        x_n[1:] = activation_Z\n",
    "        activations_list[layer] = x_n\n",
    "        prev_layer_activations = x_n\n",
    "    return signal_list,activations_list"
   ]
  },
  {
   "cell_type": "code",
   "execution_count": 45,
   "metadata": {},
   "outputs": [],
   "source": [
    "def backprop(x,y):\n",
    "    s_l,x_l = feedforward(x,weight_list)\n",
    "    delta_L_tanh = 2 * (x_l[-1][1:] - y) * (1 - x_l[-1][1:]*x_l[-1][1:])\n",
    "    deltas_list = [0]*(no_of_layers-1)\n",
    "    deltas_list[-1] = delta_L_tanh\n",
    "    upstream_gradient = delta_L_tanh\n",
    "    for l in range(no_of_layers-2,0,-1):\n",
    "        theta_dash_s_l = 1 - x_l[l][1:]*x_l[l][1:]\n",
    "        delta_l = theta_dash_s_l * np.dot(weight_list[l][1:],upstream_gradient)\n",
    "        upstream_gradient = delta_l\n",
    "        deltas_list[l-1] = delta_l\n",
    "    return deltas_list,x_l"
   ]
  },
  {
   "cell_type": "code",
   "execution_count": 52,
   "metadata": {},
   "outputs": [],
   "source": [
    "deltas_list,x_l = backprop(np.array([[2]]),1)"
   ]
  },
  {
   "cell_type": "markdown",
   "metadata": {},
   "source": [
    "# Deltas"
   ]
  },
  {
   "cell_type": "code",
   "execution_count": 51,
   "metadata": {},
   "outputs": [
    {
     "data": {
      "text/plain": [
       "[array([-0.44083838,  0.87503983]), array([-0.69451848]), array([-1.85486437])]"
      ]
     },
     "execution_count": 51,
     "metadata": {},
     "output_type": "execute_result"
    }
   ],
   "source": [
    "deltas_list"
   ]
  },
  {
   "cell_type": "markdown",
   "metadata": {},
   "source": [
    "# Activations"
   ]
  },
  {
   "cell_type": "code",
   "execution_count": 53,
   "metadata": {},
   "outputs": [
    {
     "name": "stdout",
     "output_type": "stream",
     "text": [
      "[array([1., 2.]), array([1.        , 0.60436778, 0.76159416]), array([ 1.        , -0.90154565]), array([ 1.        , -0.66576144])]\n"
     ]
    }
   ],
   "source": [
    "print(x_l)"
   ]
  },
  {
   "cell_type": "code",
   "execution_count": null,
   "metadata": {},
   "outputs": [],
   "source": []
  }
 ],
 "metadata": {
  "kernelspec": {
   "display_name": "Python 3",
   "language": "python",
   "name": "python3"
  },
  "language_info": {
   "codemirror_mode": {
    "name": "ipython",
    "version": 3
   },
   "file_extension": ".py",
   "mimetype": "text/x-python",
   "name": "python",
   "nbconvert_exporter": "python",
   "pygments_lexer": "ipython3",
   "version": "3.6.5"
  }
 },
 "nbformat": 4,
 "nbformat_minor": 2
}
