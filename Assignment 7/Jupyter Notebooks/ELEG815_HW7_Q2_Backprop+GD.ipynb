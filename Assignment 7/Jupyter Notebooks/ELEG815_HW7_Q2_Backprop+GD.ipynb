{
 "cells": [
  {
   "cell_type": "code",
   "execution_count": null,
   "metadata": {},
   "outputs": [],
   "source": [
    "import numpy as np\n",
    "from scipy.io import loadmat\n",
    "import pandas as pd\n",
    "import matplotlib.pyplot as plt"
   ]
  },
  {
   "cell_type": "code",
   "execution_count": 18,
   "metadata": {},
   "outputs": [],
   "source": [
    "layer_size_list = [2,10,1]\n",
    "np.random.seed(50)\n",
    "weight_list = [np.random.normal(0,0.1,(layer_size_list[x]+1,layer_size_list[x+1])) for x in range(len(layer_size_list)-1)]\n",
    "#weight_list = [np.array([[0.1,0.2],[0.3,0.4]]),np.array([[0.2],[1],[-3]]),np.array([[1],[2]])]\n",
    "no_of_layers = 3\n",
    "path = 'D:\\Courses\\Fall 19\\ELEG 815 Statistical Learning\\HW6\\Dataset'\n",
    "train_data_all = pd.read_csv(path+'\\DigitsTraining.csv',header=None)\n",
    "test_data_all = pd.read_csv(path+'\\DigitsTesting.csv',header=None)\n",
    "train_data = train_data_all.sample(n=500)\n",
    "test_data = test_data_all.sample(n=500)\n",
    "train_data.reset_index(drop=True,inplace=True)\n",
    "test_data.reset_index(drop=True,inplace=True)\n",
    "train_labels = train_data[0]"
   ]
  },
  {
   "cell_type": "code",
   "execution_count": 19,
   "metadata": {},
   "outputs": [
    {
     "name": "stdout",
     "output_type": "stream",
     "text": [
      "(500, 256)\n"
     ]
    }
   ],
   "source": [
    "train_data = train_data.drop([0],axis=1)\n",
    "print(train_data.shape)"
   ]
  },
  {
   "cell_type": "code",
   "execution_count": 3,
   "metadata": {},
   "outputs": [],
   "source": [
    "def sigmoid(z):\n",
    "    return 1/(1+np.exp(-z))\n",
    "def tanh(z):\n",
    "    return (np.exp(z)-np.exp(-z))/(np.exp(z)+np.exp(-z))\n",
    "def identity(z):\n",
    "    return z\n",
    "def feedforward(datapoint,weight_list):\n",
    "    prev_layer_activations = datapoint\n",
    "    signal_list = [0]*(no_of_layers-1)\n",
    "    activations_list = [0]*no_of_layers\n",
    "    activations_list[0] = datapoint\n",
    "    for layer in range(1,no_of_layers):     # l= 2 to L\n",
    "        WX = np.dot(weight_list[layer-1].T,prev_layer_activations)   \n",
    "        Z = WX\n",
    "        signal_list[layer-1] = Z\n",
    "        if layer == 2:\n",
    "            activation_Z = identity(Z)\n",
    "        else:\n",
    "            activation_Z = tanh(Z)\n",
    "        x_n = np.empty((activation_Z.shape[0]+1,))\n",
    "        x_n[0] = 1\n",
    "        x_n[1:] = activation_Z\n",
    "        activations_list[layer] = x_n\n",
    "        prev_layer_activations = x_n\n",
    "    return signal_list,activations_list"
   ]
  },
  {
   "cell_type": "code",
   "execution_count": 4,
   "metadata": {},
   "outputs": [],
   "source": [
    "def backprop(x,y):\n",
    "    x_n = np.empty((x.shape[0]+1,))\n",
    "    x_n[0] = 1\n",
    "    x_n[1:] = x\n",
    "    s_l,x_l = feedforward(x_n,weight_list)\n",
    "    delta_L_tanh = 2 * (x_l[-1][1:] - y) * (1 - x_l[-1][1:]*x_l[-1][1:])\n",
    "    delta_L_identity = 2 * (x_l[-1][1:] - y)\n",
    "    deltas_list = [0]*(no_of_layers-1)\n",
    "    deltas_list[-1] = delta_L_identity\n",
    "    upstream_gradient = delta_L_identity\n",
    "    for l in range(no_of_layers-2,0,-1):\n",
    "        theta_dash_s_l = 1 - x_l[l][1:]*x_l[l][1:]\n",
    "        delta_l = theta_dash_s_l * np.dot(weight_list[l][1:],upstream_gradient)\n",
    "        upstream_gradient = delta_l\n",
    "        deltas_list[l-1] = delta_l\n",
    "    return deltas_list,x_l"
   ]
  },
  {
   "cell_type": "code",
   "execution_count": 5,
   "metadata": {},
   "outputs": [],
   "source": [
    "def Extract_features(raw_dataset):\n",
    "    len_dataset = len(raw_dataset)\n",
    "    number_of_features = 2\n",
    "    dataset = np.empty((len_dataset,number_of_features))\n",
    "    true_labels = np.empty((len_dataset,))\n",
    "    for index,image_pixels in raw_dataset.iterrows():\n",
    "        \"\"\"---------------------- Average Intensity-------------------------\"\"\"\n",
    "        avg_intensity = sum(image_pixels[1:])/len(image_pixels[1:])\n",
    "\n",
    "        \"\"\"-----------------------Average Symmetry--------------------------\"\"\"\n",
    "        img = np.array(image_pixels[1:]).reshape((16,16))\n",
    "        flipped_image = np.fliplr(img)\n",
    "        flipped_image_pixels = flipped_image.flatten()\n",
    "        image_pixels = np.array(image_pixels)\n",
    "        asymmetry = sum(np.absolute(image_pixels[1:] - flipped_image_pixels))/len(image_pixels[1:])\n",
    "        symmetry = 1 - asymmetry\n",
    "        dataset[index][0] = 1 - avg_intensity           # Higher value of intensity means there are more white pixels than black pixels because white = 255 and black = 0\n",
    "        dataset[index][1] = symmetry\n",
    "        if int(image_pixels[0]) == 1:                   # Suppose digit 1 has label = -1\n",
    "            true_labels[index] = -1\n",
    "        else:\n",
    "            true_labels[index] = 1                      # Suppose all other digits have label = +1\n",
    "    return dataset,true_labels\n",
    "d_2_train_dataset,d_2_train_labels = Extract_features(train_data)\n",
    "d_2_test_dataset,d_2_test_labels = Extract_features(test_data)"
   ]
  },
  {
   "cell_type": "code",
   "execution_count": 6,
   "metadata": {},
   "outputs": [
    {
     "name": "stdout",
     "output_type": "stream",
     "text": [
      "(500, 2)\n",
      "[[ 0.10952095]\n",
      " [ 0.13384087]\n",
      " [-0.13689817]\n",
      " [ 0.04864276]\n",
      " [ 0.07535217]\n",
      " [ 0.03634646]\n",
      " [-0.03147105]\n",
      " [ 0.13732812]\n",
      " [-0.06244172]\n",
      " [ 0.0375754 ]\n",
      " [-0.02004163]]\n"
     ]
    }
   ],
   "source": [
    "print(d_2_test_dataset.shape)\n",
    "print(weight_list[1])"
   ]
  },
  {
   "cell_type": "code",
   "execution_count": 7,
   "metadata": {},
   "outputs": [],
   "source": [
    "def GD(weight_list,d_2_train_dataset,d_2_train_labels,learning_rate):\n",
    "    w = weight_list\n",
    "    D = d_2_train_dataset\n",
    "    N = len(D)\n",
    "    y = d_2_train_labels\n",
    "    E_in = 0\n",
    "    g = [0] * (no_of_layers-1)\n",
    "    for index,d in enumerate(D):\n",
    "        deltas_list,x_l = backprop(d,y[index])\n",
    "        E_in += (1/N) * (x_l[-1][1] - y[index])**2\n",
    "        for l in range(1,no_of_layers):\n",
    "            delta = deltas_list[l-1].reshape((deltas_list[l-1].shape[0],1))\n",
    "            x_l_previos = x_l[l-1].reshape((x_l[l-1].shape[0],1)) \n",
    "            G_l_xn = np.dot(x_l_previos,delta.T)\n",
    "            g[l-1] += (1/N) * G_l_xn\n",
    "    print('E_in :',E_in)\n",
    "    for l in range(1,no_of_layers):\n",
    "        weight_list[l-1] -= learning_rate * g[l-1]\n",
    "    return E_in,weight_list"
   ]
  },
  {
   "cell_type": "code",
   "execution_count": null,
   "metadata": {},
   "outputs": [],
   "source": [
    "def train_GD(epochs):\n",
    "    errors = [0] * epochs\n",
    "    for epoch in range(epochs):\n",
    "        print('Epoch :',epoch)\n",
    "        errors[epoch],weights = GD(weight_list,d_2_train_dataset,d_2_train_labels,0.01)\n",
    "    return errors,weight_list\n",
    "errors_GD,weight_list_new_GD = train_GD(10000)"
   ]
  },
  {
   "cell_type": "code",
   "execution_count": 9,
   "metadata": {},
   "outputs": [],
   "source": [
    "#print(weight_list_new)"
   ]
  },
  {
   "cell_type": "code",
   "execution_count": 10,
   "metadata": {},
   "outputs": [
    {
     "data": {
      "text/plain": [
       "[<matplotlib.lines.Line2D at 0x2714af7a048>]"
      ]
     },
     "execution_count": 10,
     "metadata": {},
     "output_type": "execute_result"
    },
    {
     "data": {
      "image/png": "[encoded data removed]",
      "text/plain": [
       "<Figure size 432x288 with 1 Axes>"
      ]
     },
     "metadata": {},
     "output_type": "display_data"
    }
   ],
   "source": [
    "plt.plot(errors_GD)"
   ]
  },
  {
   "cell_type": "code",
   "execution_count": 11,
   "metadata": {},
   "outputs": [],
   "source": [
    "def evaluate(test_data,test_labels,weight_list_new):\n",
    "    cnt = 0\n",
    "    for index,x in enumerate(test_data):\n",
    "        x_n = np.empty((x.shape[0]+1,))\n",
    "        x_n[0] = 1\n",
    "        x_n[1:] = x\n",
    "        x_l = feedforward(x_n,weight_list)[1]\n",
    "        #print(x_l[-1][1])\n",
    "        if x_l[-1][1] > 0 and test_labels[index] == 1:\n",
    "            cnt += 1\n",
    "        if x_l[-1][1] < 0 and test_labels[index] == -1:\n",
    "            cnt += 1\n",
    "    return cnt\n",
    "cnt = evaluate(d_2_test_dataset,d_2_test_labels,weight_list_new_GD)"
   ]
  },
  {
   "cell_type": "code",
   "execution_count": 12,
   "metadata": {},
   "outputs": [
    {
     "name": "stdout",
     "output_type": "stream",
     "text": [
      "485\n",
      "97.0\n"
     ]
    }
   ],
   "source": [
    "print(cnt)\n",
    "print((cnt/len(d_2_test_dataset))*100)"
   ]
  },
  {
   "cell_type": "code",
   "execution_count": 13,
   "metadata": {},
   "outputs": [
    {
     "name": "stdout",
     "output_type": "stream",
     "text": [
      "0.23424529126856897\n"
     ]
    }
   ],
   "source": [
    "print(errors_GD[-1])"
   ]
  },
  {
   "cell_type": "code",
   "execution_count": 14,
   "metadata": {},
   "outputs": [
    {
     "data": {
      "text/plain": [
       "Text(0,0.5,'log10(Error)')"
      ]
     },
     "execution_count": 14,
     "metadata": {},
     "output_type": "execute_result"
    },
    {
     "data": {
      "image/png": "[encoded data removed]",
      "text/plain": [
       "<Figure size 432x288 with 1 Axes>"
      ]
     },
     "metadata": {},
     "output_type": "display_data"
    }
   ],
   "source": [
    "errors_GD = np.log10(errors_GD)\n",
    "iters = np.log10([i for i in range(1,10001)])\n",
    "plt.plot(iters,errors_GD)\n",
    "plt.xlabel('log10(Iterations)')\n",
    "plt.ylabel('log10(Error)')"
   ]
  },
  {
   "cell_type": "code",
   "execution_count": null,
   "metadata": {},
   "outputs": [],
   "source": []
  }
 ],
 "metadata": {
  "kernelspec": {
   "display_name": "Python 3",
   "language": "python",
   "name": "python3"
  },
  "language_info": {
   "codemirror_mode": {
    "name": "ipython",
    "version": 3
   },
   "file_extension": ".py",
   "mimetype": "text/x-python",
   "name": "python",
   "nbconvert_exporter": "python",
   "pygments_lexer": "ipython3",
   "version": "3.6.5"
  }
 },
 "nbformat": 4,
 "nbformat_minor": 2
}
